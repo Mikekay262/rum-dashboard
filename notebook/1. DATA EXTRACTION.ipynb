{
 "cells": [
  {
   "cell_type": "code",
   "execution_count": 1,
   "id": "075319e0",
   "metadata": {},
   "outputs": [],
   "source": [
    "import pandas as pd\n",
    "import camelot"
   ]
  },
  {
   "cell_type": "markdown",
   "id": "6fdab6a8",
   "metadata": {},
   "source": [
    "## Initializing Antibiotics Dataframe\n"
   ]
  },
  {
   "cell_type": "code",
   "execution_count": 2,
   "id": "1b8c0e33",
   "metadata": {},
   "outputs": [
    {
     "name": "stdout",
     "output_type": "stream",
     "text": [
      "Dataframe cleaned\n"
     ]
    }
   ],
   "source": [
    "# Step 1: Read the CSV file into a DataFrame\n",
    "csv_file_path = 'data/antibiotics.csv'\n",
    "\n",
    "# Try reading with UTF-8 encoding first\n",
    "antibiotics_df = pd.read_csv(csv_file_path)\n",
    "   \n",
    "# Step 3: Remove empty columns from the DataFrame\n",
    "antibiotics_df = antibiotics_df.dropna(axis=1, how='all')\n",
    "\n",
    "# Remove unnamed columns\n",
    "antibiotics_df = antibiotics_df.loc[:, ~antibiotics_df.columns.str.contains('^Unnamed')]\n",
    "\n",
    "# sanitize column names to make them suitable for the SQL database\n",
    "antibiotics_df = antibiotics_df.rename(columns={\n",
    "    \"ATC code\": \"ATC_code\",\n",
    "    \"Listed on EML/EMLc 2023\": \"Listed_on_EML_EMLc_2023\"\n",
    "})\n",
    "\n",
    "\n",
    "\n",
    "# Validate data (check for null values)\n",
    "if antibiotics_df.isnull().values.any():\n",
    "    raise ValueError(\"CSV file contains null values. Please clean the data before inserting.\")\n",
    "else:\n",
    "    print('Dataframe cleaned')\n",
    "\n"
   ]
  },
  {
   "cell_type": "code",
   "execution_count": 3,
   "id": "fe220fa9",
   "metadata": {},
   "outputs": [
    {
     "data": {
      "text/html": [
       "<div>\n",
       "<style scoped>\n",
       "    .dataframe tbody tr th:only-of-type {\n",
       "        vertical-align: middle;\n",
       "    }\n",
       "\n",
       "    .dataframe tbody tr th {\n",
       "        vertical-align: top;\n",
       "    }\n",
       "\n",
       "    .dataframe thead th {\n",
       "        text-align: right;\n",
       "    }\n",
       "</style>\n",
       "<table border=\"1\" class=\"dataframe\">\n",
       "  <thead>\n",
       "    <tr style=\"text-align: right;\">\n",
       "      <th></th>\n",
       "      <th>Antibiotic</th>\n",
       "      <th>Class</th>\n",
       "      <th>ATC_code</th>\n",
       "      <th>Category</th>\n",
       "      <th>Listed_on_EML_EMLc_2023</th>\n",
       "    </tr>\n",
       "  </thead>\n",
       "  <tbody>\n",
       "    <tr>\n",
       "      <th>0</th>\n",
       "      <td>Amikacin</td>\n",
       "      <td>Aminoglycosides</td>\n",
       "      <td>J01GB06</td>\n",
       "      <td>Access</td>\n",
       "      <td>Yes</td>\n",
       "    </tr>\n",
       "    <tr>\n",
       "      <th>1</th>\n",
       "      <td>Amoxicillin</td>\n",
       "      <td>Penicillins</td>\n",
       "      <td>J01CA04</td>\n",
       "      <td>Access</td>\n",
       "      <td>Yes</td>\n",
       "    </tr>\n",
       "    <tr>\n",
       "      <th>2</th>\n",
       "      <td>Amoxicillin/clavulanic-acid</td>\n",
       "      <td>Beta-lactam/beta-lactamase-inhibitor</td>\n",
       "      <td>J01CR02</td>\n",
       "      <td>Access</td>\n",
       "      <td>Yes</td>\n",
       "    </tr>\n",
       "    <tr>\n",
       "      <th>3</th>\n",
       "      <td>Ampicillin</td>\n",
       "      <td>Penicillins</td>\n",
       "      <td>J01CA01</td>\n",
       "      <td>Access</td>\n",
       "      <td>Yes</td>\n",
       "    </tr>\n",
       "    <tr>\n",
       "      <th>4</th>\n",
       "      <td>Ampicillin/sulbactam</td>\n",
       "      <td>Beta-lactam/beta-lactamase-inhibitor</td>\n",
       "      <td>J01CR01</td>\n",
       "      <td>Access</td>\n",
       "      <td>No</td>\n",
       "    </tr>\n",
       "    <tr>\n",
       "      <th>...</th>\n",
       "      <td>...</td>\n",
       "      <td>...</td>\n",
       "      <td>...</td>\n",
       "      <td>...</td>\n",
       "      <td>...</td>\n",
       "    </tr>\n",
       "    <tr>\n",
       "      <th>252</th>\n",
       "      <td>Trimethoprim</td>\n",
       "      <td>Trimethoprim-derivatives</td>\n",
       "      <td>J01EA01</td>\n",
       "      <td>Access</td>\n",
       "      <td>Yes</td>\n",
       "    </tr>\n",
       "    <tr>\n",
       "      <th>253</th>\n",
       "      <td>Troleandomycin</td>\n",
       "      <td>Macrolides</td>\n",
       "      <td>J01FA08</td>\n",
       "      <td>Watch</td>\n",
       "      <td>No</td>\n",
       "    </tr>\n",
       "    <tr>\n",
       "      <th>254</th>\n",
       "      <td>Trovafloxacin</td>\n",
       "      <td>Fluoroquinolones</td>\n",
       "      <td>J01MA13</td>\n",
       "      <td>Watch</td>\n",
       "      <td>No</td>\n",
       "    </tr>\n",
       "    <tr>\n",
       "      <th>255</th>\n",
       "      <td>Vancomycin_IV</td>\n",
       "      <td>Glycopeptides</td>\n",
       "      <td>J01XA01</td>\n",
       "      <td>Watch</td>\n",
       "      <td>Yes</td>\n",
       "    </tr>\n",
       "    <tr>\n",
       "      <th>256</th>\n",
       "      <td>Vancomycin_oral</td>\n",
       "      <td>Glycopeptides</td>\n",
       "      <td>A07AA09</td>\n",
       "      <td>Watch</td>\n",
       "      <td>Yes</td>\n",
       "    </tr>\n",
       "  </tbody>\n",
       "</table>\n",
       "<p>257 rows × 5 columns</p>\n",
       "</div>"
      ],
      "text/plain": [
       "                      Antibiotic                                 Class  \\\n",
       "0                       Amikacin                       Aminoglycosides   \n",
       "1                    Amoxicillin                           Penicillins   \n",
       "2    Amoxicillin/clavulanic-acid  Beta-lactam/beta-lactamase-inhibitor   \n",
       "3                     Ampicillin                           Penicillins   \n",
       "4           Ampicillin/sulbactam  Beta-lactam/beta-lactamase-inhibitor   \n",
       "..                           ...                                   ...   \n",
       "252                 Trimethoprim              Trimethoprim-derivatives   \n",
       "253               Troleandomycin                            Macrolides   \n",
       "254                Trovafloxacin                      Fluoroquinolones   \n",
       "255                Vancomycin_IV                         Glycopeptides   \n",
       "256              Vancomycin_oral                         Glycopeptides   \n",
       "\n",
       "     ATC_code Category  Listed_on_EML_EMLc_2023  \n",
       "0     J01GB06    Access                     Yes  \n",
       "1     J01CA04    Access                     Yes  \n",
       "2     J01CR02    Access                     Yes  \n",
       "3    J01CA01     Access                     Yes  \n",
       "4     J01CR01    Access                      No  \n",
       "..        ...       ...                     ...  \n",
       "252   J01EA01    Access                     Yes  \n",
       "253   J01FA08     Watch                      No  \n",
       "254   J01MA13     Watch                      No  \n",
       "255   J01XA01     Watch                     Yes  \n",
       "256   A07AA09     Watch                     Yes  \n",
       "\n",
       "[257 rows x 5 columns]"
      ]
     },
     "execution_count": 3,
     "metadata": {},
     "output_type": "execute_result"
    }
   ],
   "source": [
    "antibiotics_df"
   ]
  },
  {
   "cell_type": "markdown",
   "id": "528c87d1",
   "metadata": {},
   "source": [
    "## Initializing EML Database"
   ]
  },
  {
   "cell_type": "code",
   "execution_count": 16,
   "id": "35d30c4a",
   "metadata": {},
   "outputs": [
    {
     "name": "stdout",
     "output_type": "stream",
     "text": [
      "                                                   0          1  \\\n",
      "0  Name of Drug\\nFormulation\\nStrength\\nLevel \\nN...              \n",
      "1                        1.1    General Anaesthetics              \n",
      "2                           Adrenaline (Epinephrine)  Injection   \n",
      "3                           Adrenaline (Epinephrine)  Injection   \n",
      "4                                           Atropine  Injection   \n",
      "\n",
      "                                  2   3  4 5  \n",
      "0                                             \n",
      "1                                             \n",
      "2               1 mg /ml \\n(1:1000)   M  R    \n",
      "3  100 \\nmicrogram/ \\nml (1:10 000)   M  R    \n",
      "4                        0.6 mg/ ml  B2  R    \n"
     ]
    }
   ],
   "source": [
    "# Use the correct Windows file path\n",
    "pdf_path = r'C:\\rum-dashboard\\notebook\\data\\EML.pdf'  # Update this to your actual file path\n",
    "\n",
    "# Initialize an empty list to store the tables\n",
    "tables_list = []\n",
    "\n",
    "# Extract all tables from the entire document\n",
    "all_tables = camelot.read_pdf(pdf_path, pages=\"all\", multiple_tables=True)\n",
    "\n",
    "# Start collecting tables from Table 14 onwards\n",
    "for i in range(13, len(all_tables)):  # Index starts at 0, so Table 14 is at index 13\n",
    "    tables_list.append(all_tables[i].df)\n",
    "\n",
    "# Combine all the selected tables into a single DataFrame\n",
    "EML_df = pd.concat([pd.DataFrame(table) for table in tables_list], ignore_index=True)\n",
    "\n",
    "# Display the DataFrame for verification (optional)\n",
    "print(EML_df.head())\n",
    "\n",
    "# Save the DataFrame to a CSV file (optional)\n",
    "EML_df.to_csv(r'C:\\rum-dashboard\\notebook\\data\\EML.csv', index=False)\n"
   ]
  },
  {
   "cell_type": "markdown",
   "id": "d0708b9e",
   "metadata": {},
   "source": [
    "NB: Final EML_cleaned is further processed manually, validated and saved as EML_data.csv -> Final datasets: \n",
    "- antibotics_data.csv\n",
    "- EML_data.csv(Entered Missingg data manually + Other validations before saving to this)\n",
    "- data.csv\n"
   ]
  },
  {
   "cell_type": "markdown",
   "id": "b8a33538",
   "metadata": {},
   "source": []
  }
 ],
 "metadata": {
  "kernelspec": {
   "display_name": "Python 3 (ipykernel)",
   "language": "python",
   "name": "python3"
  },
  "language_info": {
   "codemirror_mode": {
    "name": "ipython",
    "version": 3
   },
   "file_extension": ".py",
   "mimetype": "text/x-python",
   "name": "python",
   "nbconvert_exporter": "python",
   "pygments_lexer": "ipython3",
   "version": "3.8.19"
  },
  "vscode": {
   "interpreter": {
    "hash": "7f9dc718a552478e14f37d36e0ca2ac7de1ac15c04a40a415ea3abc3fe8a0a39"
   }
  }
 },
 "nbformat": 4,
 "nbformat_minor": 5
}
